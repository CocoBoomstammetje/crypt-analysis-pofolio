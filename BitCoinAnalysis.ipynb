{
 "cells": [
  {
   "cell_type": "code",
   "execution_count": 50,
   "metadata": {},
   "outputs": [
    {
     "data": {
      "text/plain": [
       "'\\nBitcoin Price Analysis Dashboard\\nAuthor: Motoko Millum\\nDate: March 2025\\n\\nThis notebook analyzes Bitcoin price movements using the CoinGecko API.\\nFeatures:\\n- Interactive price chart\\n- High/low price indicators\\n- Price change analysis\\n- Formatted HTML title with key statistics\\n'"
      ]
     },
     "execution_count": 50,
     "metadata": {},
     "output_type": "execute_result"
    }
   ],
   "source": [
    "\"\"\"\n",
    "Bitcoin Price Analysis Dashboard\n",
    "Author: Motoko Millum\n",
    "Date: March 2025\n",
    "\n",
    "This notebook analyzes Bitcoin price movements using the CoinGecko API.\n",
    "Features:\n",
    "- Interactive price chart\n",
    "- High/low price indicators\n",
    "- Price change analysis\n",
    "- Formatted HTML title with key statistics\n",
    "\"\"\""
   ]
  },
  {
   "cell_type": "code",
   "execution_count": 45,
   "metadata": {},
   "outputs": [],
   "source": [
    "import pandas as pd\n",
    "from pycoingecko import CoinGeckoAPI\n",
    "import plotly.graph_objects as go\n",
    "from datetime import datetime, timedelta\n",
    "import plotly.io as pio\n",
    "pio.renderers.default = \"vscode\""
   ]
  },
  {
   "cell_type": "code",
   "execution_count": 46,
   "metadata": {},
   "outputs": [],
   "source": [
    "\n",
    "def fetch_bitcoin_data(start_date, end_date):\n",
    "    \"\"\"Fetch Bitcoin price data from CoinGecko API.\"\"\"\n",
    "    cg = CoinGeckoAPI()\n",
    "    return cg.get_coin_market_chart_range_by_id(\n",
    "        id='bitcoin',\n",
    "        vs_currency='usd',\n",
    "        from_timestamp=start_date.timestamp(),\n",
    "        to_timestamp=end_date.timestamp()\n",
    "    )\n",
    "\n",
    "# Convert dates to Unix timestamps\n",
    "start_date = datetime(2025, 2, 23).timestamp()\n",
    "end_date = datetime(2025, 3, 6).timestamp()\n",
    "\n",
    "# Get Bitcoin price data\n",
    "bitcoin_data = cg.get_coin_market_chart_range_by_id(\n",
    "    id='bitcoin', vs_currency='usd', \n",
    "    from_timestamp=start_date, \n",
    "    to_timestamp=end_date)"
   ]
  },
  {
   "cell_type": "code",
   "execution_count": 47,
   "metadata": {},
   "outputs": [],
   "source": [
    "# Convert price data to DataFrame\n",
    "df= pd.DataFrame(bitcoin_data['prices'], columns=['Date', 'Price'])\n",
    "df['Date'] = pd.to_datetime(df['Date'], unit='ms')"
   ]
  },
  {
   "cell_type": "code",
   "execution_count": 48,
   "metadata": {},
   "outputs": [],
   "source": [
    "# Calculate key statistics\n",
    "highest_price = df['Price'].max()\n",
    "lowest_price = df['Price'].min()\n",
    "price_difference = highest_price - lowest_price\n",
    "price_change = ((df['Price'].iloc[-1] - df['Price'].iloc[0]) / df['Price'].iloc[0]) * 100\n",
    "price_difference_percent = ((highest_price - lowest_price) / lowest_price) * 100"
   ]
  },
  {
   "cell_type": "code",
   "execution_count": 49,
   "metadata": {},
   "outputs": [
    {
     "data": {
      "application/vnd.plotly.v1+json": {
       "config": {
        "plotlyServerURL": "https://plot.ly"
       },
       "data": [
        {
         "mode": "lines",
         "name": "Bitcoin Price",
         "type": "scatter",
         "x": [
          "2025-02-22T15:05:21.603000000",
          "2025-02-22T16:04:48.803000000",
          "2025-02-22T17:04:43.302000000",
          "2025-02-22T18:04:59.220000000",
          "2025-02-22T19:02:15.198000000",
          "2025-02-22T20:04:50.643000000",
          "2025-02-22T21:04:44.980000000",
          "2025-02-22T22:01:33.157000000",
          "2025-02-22T23:05:45.135000000",
          "2025-02-23T00:04:47.721000000",
          "2025-02-23T01:04:50.090000000",
          "2025-02-23T02:04:51.387000000",
          "2025-02-23T03:04:36.316000000",
          "2025-02-23T04:04:41.720000000",
          "2025-02-23T05:04:46.475000000",
          "2025-02-23T06:04:37.616000000",
          "2025-02-23T07:02:03.265000000",
          "2025-02-23T08:04:31.344000000",
          "2025-02-23T09:04:53.321000000",
          "2025-02-23T10:00:21.052000000",
          "2025-02-23T11:04:48.539000000",
          "2025-02-23T12:00:50.617000000",
          "2025-02-23T13:04:51.833000000",
          "2025-02-23T14:04:49.250000000",
          "2025-02-23T15:04:45.840000000",
          "2025-02-23T16:04:37.446000000",
          "2025-02-23T17:04:48.221000000",
          "2025-02-23T18:05:32.331000000",
          "2025-02-23T19:09:24.749000000",
          "2025-02-23T20:04:57.514000000",
          "2025-02-23T21:04:48.030000000",
          "2025-02-23T22:04:56.654000000",
          "2025-02-23T23:09:21.219000000",
          "2025-02-24T00:03:58.045000000",
          "2025-02-24T01:04:32.015000000",
          "2025-02-24T02:04:40.171000000",
          "2025-02-24T03:04:27.810000000",
          "2025-02-24T04:04:56.717000000",
          "2025-02-24T05:01:04.500000000",
          "2025-02-24T06:04:32.274000000",
          "2025-02-24T07:04:24.571000000",
          "2025-02-24T08:04:48.274000000",
          "2025-02-24T09:04:55.513000000",
          "2025-02-24T10:04:38.788000000",
          "2025-02-24T11:04:29.936000000",
          "2025-02-24T12:04:45.829000000",
          "2025-02-24T13:04:42.429000000",
          "2025-02-24T14:04:10.530000000",
          "2025-02-24T15:05:00.194000000",
          "2025-02-24T16:07:36.417000000",
          "2025-02-24T17:04:48.544000000",
          "2025-02-24T18:04:55.855000000",
          "2025-02-24T19:04:43.068000000",
          "2025-02-24T20:04:32.403000000",
          "2025-02-24T21:03:37.801000000",
          "2025-02-24T22:04:58.981000000",
          "2025-02-24T23:04:10.160000000",
          "2025-02-25T00:04:59.811000000",
          "2025-02-25T01:01:30.844000000",
          "2025-02-25T02:04:20.838000000",
          "2025-02-25T03:04:56.335000000",
          "2025-02-25T04:04:46.408000000",
          "2025-02-25T05:09:18.813000000",
          "2025-02-25T06:06:35.030000000",
          "2025-02-25T07:04:47.171000000",
          "2025-02-25T08:04:15.825000000",
          "2025-02-25T09:01:02.370000000",
          "2025-02-25T10:05:57.382000000",
          "2025-02-25T11:04:36.059000000",
          "2025-02-25T12:04:46.178000000",
          "2025-02-25T13:04:40.670000000",
          "2025-02-25T14:09:28.139000000",
          "2025-02-25T15:09:24.610000000",
          "2025-02-25T16:09:24.690000000",
          "2025-02-25T17:09:15.140000000",
          "2025-02-25T18:09:41.791000000",
          "2025-02-25T19:01:49.546000000",
          "2025-02-25T20:04:53.681000000",
          "2025-02-25T21:01:39.627000000",
          "2025-02-25T22:09:45.639000000",
          "2025-02-25T23:09:38.390000000",
          "2025-02-26T00:08:53.938000000",
          "2025-02-26T01:09:45.658000000",
          "2025-02-26T02:05:27.951000000",
          "2025-02-26T03:08:26.575000000",
          "2025-02-26T04:09:26.619000000",
          "2025-02-26T05:04:43.636000000",
          "2025-02-26T06:04:48.324000000",
          "2025-02-26T07:09:08.380000000",
          "2025-02-26T08:04:36.710000000",
          "2025-02-26T09:04:17.986000000",
          "2025-02-26T10:04:49.265000000",
          "2025-02-26T11:05:30.847000000",
          "2025-02-26T12:04:19.989000000",
          "2025-02-26T13:04:57.308000000",
          "2025-02-26T14:04:53.742000000",
          "2025-02-26T15:04:41.245000000",
          "2025-02-26T16:01:06.530000000",
          "2025-02-26T17:05:35.340000000",
          "2025-02-26T18:04:52.167000000",
          "2025-02-26T19:04:58.494000000",
          "2025-02-26T20:07:03.343000000",
          "2025-02-26T21:05:29.701000000",
          "2025-02-26T22:04:51.580000000",
          "2025-02-26T23:04:44.223000000",
          "2025-02-27T00:04:57.146000000",
          "2025-02-27T01:00:33.204000000",
          "2025-02-27T02:07:39.379000000",
          "2025-02-27T03:03:23.975000000",
          "2025-02-27T04:04:18.422000000",
          "2025-02-27T05:09:12.323000000",
          "2025-02-27T06:04:45.122000000",
          "2025-02-27T07:04:28.938000000",
          "2025-02-27T08:04:28.696000000",
          "2025-02-27T09:04:38.683000000",
          "2025-02-27T10:04:44.385000000",
          "2025-02-27T11:04:50.652000000",
          "2025-02-27T12:04:58.578000000",
          "2025-02-27T13:04:42.833000000",
          "2025-02-27T14:04:54.100000000",
          "2025-02-27T15:04:44.189000000",
          "2025-02-27T16:12:05.479000000",
          "2025-02-27T17:06:45.252000000",
          "2025-02-27T18:04:35.450000000",
          "2025-02-27T19:09:29.693000000",
          "2025-02-27T20:04:49.162000000",
          "2025-02-27T21:04:41.086000000",
          "2025-02-27T22:04:57.260000000",
          "2025-02-27T23:04:30.095000000",
          "2025-02-28T00:05:00.195000000",
          "2025-02-28T01:04:49.739000000",
          "2025-02-28T02:05:42.417000000",
          "2025-02-28T03:09:52.358000000",
          "2025-02-28T04:04:55.802000000",
          "2025-02-28T05:01:46.910000000",
          "2025-02-28T06:04:43.440000000",
          "2025-02-28T07:08:53.466000000",
          "2025-02-28T08:04:36.289000000",
          "2025-02-28T09:04:31.902000000",
          "2025-02-28T10:09:24.105000000",
          "2025-02-28T11:04:46.563000000",
          "2025-02-28T12:03:00.812000000",
          "2025-02-28T13:04:36.416000000",
          "2025-02-28T14:04:47.958000000"
         ],
         "y": {
          "bdata": "HKW7fFeR90Clqw00bpT3QDjpoEHfjvdAZaIbS8WZ90ACSlgeH4r3QNgiBoh1l/dAmo7fEQuU90AE+O8TR5r3QCpfb/a7l/dAWDg7MeWQ90CGKImny5j3QAanR5NijvdAdgQ0u9SJ90BaVUyeFYv3QFU21n12ivdAQX60/oV990B57680m4X3QM39n9VFkfdAFzYLPpeF90ADGBMecYT3QDKINW6sevdA4pvPJR9390B3cy5NGF/3QOClFYBlavdAQ1yXg6pV90AVTH1vikz3QOeCc+IUTPdArQNB3g1b90BGkwSG/GP3QIxMmv1IYPdAr5h8eY1i90D593HuQmH3QC0mcVJCdvdAErXa2paA90C5jXbzt373QNKtYi7EbvdAcWEahwFj90D4JRi/Tk33QLPUIbtsQ/dAiFyqy6Bf90BQ7wWGlWr3QJ1BTmvdafdAs9LU8GRT90DUDuHm52P3QEG2ybuNWfdA1y387Yxl90DW7OrKTWP3QMmOzcsOU/dAWmJmxQ4i90Dx3YXYIwL3QBhnfaVHBvdA93sWlqEa90D9i/rsjfv2QMLGMsjt6vZA+CY3o4Px9kAOmcTPJvD2QNTk3F+WjPZAj0iIxdhb9kBJ6/QU0mv2QOXBkf7UdvZANw40OCCJ9kA5SUinmXz2QIf0yKjIavZA+FAs2khy9kAlAm9Ji0f2QEhi6YYvwPVAEPEE1UvT9UC9F8IPhpf1QLQ8ZGmViPVAoInLeIjK9UAoI60389L1QBPD3x1drfVAoQ+AqTo19UAhz1hGhy/1QC4ufPRtVPVAxu0yygxW9UCENOXZ2Tn1QNokJMffcfVAd25vwIh/9UADbd4MbcP1QINmhZ7ruvVAOehMc/CY9UCtmg1VF4T1QFdoxD1uoPVACbABViS79UDcmLrOFrH1QMK6E8M4o/VAP0mEvZGT9UAWtnYl0K/1QBYql7IBpvVADJnTyf+X9UB38wJ4t7z1QInz+iRxxvVAJUg3WPSg9UCxc/Xts3b1QKQOVAPVO/VA/hMpnXJe9UCBWHNfgVX1QCqph+BbKvVAb5l4ldr49EAUrCy8dIj0QL9sph2UcvRAMUwIyBqE9ECR+xFrwaH0QPtH0v3clPRAk6BRCIqK9EA+uyK9vaP0QP9YZ5T9pPRAqr8REL2T9ED3WUeIysj0QNr7hWm9wvRAYKCLaVzv9EDnRfn+5An1QG2jzrG1DPVAgFRup5D+9EBY7f4fpQP1QPdYvshxOvVAgeYD9iko9UADeVoweg71QCcecFQ5AvVAjSPRZ5m89EAqY7q6n930QB8SHN0mnfRAi9J8skWg9EC6ylUWSpX0QEyFW2+rfvRA+okMvghg9EBmhDyblY70QDPjjErxpfRAO3J4Jxit9ECKiWqp6Yz0QGJZlVs39PNAwWRcNOTP80CiL+qvLKTzQIGAEI5+nPNAa78l4ROA80BfELyIQHvzQK4zD9FzTvNAaUO1BMdF80AOyh476YfzQOnSogOnhfNAUtCaBDOj80AQKbzZSrjzQFZuPMUW5PNA",
          "dtype": "f8"
         }
        }
       ],
       "layout": {
        "annotations": [
         {
          "showarrow": false,
          "text": "Highest Price: $96,676.44",
          "x": 1,
          "xanchor": "right",
          "xref": "x domain",
          "y": 96676.44236752397,
          "yanchor": "bottom",
          "yref": "y"
         },
         {
          "showarrow": false,
          "text": "Lowest Price: $78,940.44",
          "x": 1,
          "xanchor": "right",
          "xref": "x domain",
          "y": 78940.43864942867,
          "yanchor": "bottom",
          "yref": "y"
         }
        ],
        "hovermode": "x unified",
        "shapes": [
         {
          "line": {
           "color": "green",
           "dash": "dash"
          },
          "type": "line",
          "x0": 0,
          "x1": 1,
          "xref": "x domain",
          "y0": 96676.44236752397,
          "y1": 96676.44236752397,
          "yref": "y"
         },
         {
          "line": {
           "color": "red",
           "dash": "dash"
          },
          "type": "line",
          "x0": 0,
          "x1": 1,
          "xref": "x domain",
          "y0": 78940.43864942867,
          "y1": 78940.43864942867,
          "yref": "y"
         }
        ],
        "template": {
         "data": {
          "bar": [
           {
            "error_x": {
             "color": "#2a3f5f"
            },
            "error_y": {
             "color": "#2a3f5f"
            },
            "marker": {
             "line": {
              "color": "#E5ECF6",
              "width": 0.5
             },
             "pattern": {
              "fillmode": "overlay",
              "size": 10,
              "solidity": 0.2
             }
            },
            "type": "bar"
           }
          ],
          "barpolar": [
           {
            "marker": {
             "line": {
              "color": "#E5ECF6",
              "width": 0.5
             },
             "pattern": {
              "fillmode": "overlay",
              "size": 10,
              "solidity": 0.2
             }
            },
            "type": "barpolar"
           }
          ],
          "carpet": [
           {
            "aaxis": {
             "endlinecolor": "#2a3f5f",
             "gridcolor": "white",
             "linecolor": "white",
             "minorgridcolor": "white",
             "startlinecolor": "#2a3f5f"
            },
            "baxis": {
             "endlinecolor": "#2a3f5f",
             "gridcolor": "white",
             "linecolor": "white",
             "minorgridcolor": "white",
             "startlinecolor": "#2a3f5f"
            },
            "type": "carpet"
           }
          ],
          "choropleth": [
           {
            "colorbar": {
             "outlinewidth": 0,
             "ticks": ""
            },
            "type": "choropleth"
           }
          ],
          "contour": [
           {
            "colorbar": {
             "outlinewidth": 0,
             "ticks": ""
            },
            "colorscale": [
             [
              0,
              "#0d0887"
             ],
             [
              0.1111111111111111,
              "#46039f"
             ],
             [
              0.2222222222222222,
              "#7201a8"
             ],
             [
              0.3333333333333333,
              "#9c179e"
             ],
             [
              0.4444444444444444,
              "#bd3786"
             ],
             [
              0.5555555555555556,
              "#d8576b"
             ],
             [
              0.6666666666666666,
              "#ed7953"
             ],
             [
              0.7777777777777778,
              "#fb9f3a"
             ],
             [
              0.8888888888888888,
              "#fdca26"
             ],
             [
              1,
              "#f0f921"
             ]
            ],
            "type": "contour"
           }
          ],
          "contourcarpet": [
           {
            "colorbar": {
             "outlinewidth": 0,
             "ticks": ""
            },
            "type": "contourcarpet"
           }
          ],
          "heatmap": [
           {
            "colorbar": {
             "outlinewidth": 0,
             "ticks": ""
            },
            "colorscale": [
             [
              0,
              "#0d0887"
             ],
             [
              0.1111111111111111,
              "#46039f"
             ],
             [
              0.2222222222222222,
              "#7201a8"
             ],
             [
              0.3333333333333333,
              "#9c179e"
             ],
             [
              0.4444444444444444,
              "#bd3786"
             ],
             [
              0.5555555555555556,
              "#d8576b"
             ],
             [
              0.6666666666666666,
              "#ed7953"
             ],
             [
              0.7777777777777778,
              "#fb9f3a"
             ],
             [
              0.8888888888888888,
              "#fdca26"
             ],
             [
              1,
              "#f0f921"
             ]
            ],
            "type": "heatmap"
           }
          ],
          "histogram": [
           {
            "marker": {
             "pattern": {
              "fillmode": "overlay",
              "size": 10,
              "solidity": 0.2
             }
            },
            "type": "histogram"
           }
          ],
          "histogram2d": [
           {
            "colorbar": {
             "outlinewidth": 0,
             "ticks": ""
            },
            "colorscale": [
             [
              0,
              "#0d0887"
             ],
             [
              0.1111111111111111,
              "#46039f"
             ],
             [
              0.2222222222222222,
              "#7201a8"
             ],
             [
              0.3333333333333333,
              "#9c179e"
             ],
             [
              0.4444444444444444,
              "#bd3786"
             ],
             [
              0.5555555555555556,
              "#d8576b"
             ],
             [
              0.6666666666666666,
              "#ed7953"
             ],
             [
              0.7777777777777778,
              "#fb9f3a"
             ],
             [
              0.8888888888888888,
              "#fdca26"
             ],
             [
              1,
              "#f0f921"
             ]
            ],
            "type": "histogram2d"
           }
          ],
          "histogram2dcontour": [
           {
            "colorbar": {
             "outlinewidth": 0,
             "ticks": ""
            },
            "colorscale": [
             [
              0,
              "#0d0887"
             ],
             [
              0.1111111111111111,
              "#46039f"
             ],
             [
              0.2222222222222222,
              "#7201a8"
             ],
             [
              0.3333333333333333,
              "#9c179e"
             ],
             [
              0.4444444444444444,
              "#bd3786"
             ],
             [
              0.5555555555555556,
              "#d8576b"
             ],
             [
              0.6666666666666666,
              "#ed7953"
             ],
             [
              0.7777777777777778,
              "#fb9f3a"
             ],
             [
              0.8888888888888888,
              "#fdca26"
             ],
             [
              1,
              "#f0f921"
             ]
            ],
            "type": "histogram2dcontour"
           }
          ],
          "mesh3d": [
           {
            "colorbar": {
             "outlinewidth": 0,
             "ticks": ""
            },
            "type": "mesh3d"
           }
          ],
          "parcoords": [
           {
            "line": {
             "colorbar": {
              "outlinewidth": 0,
              "ticks": ""
             }
            },
            "type": "parcoords"
           }
          ],
          "pie": [
           {
            "automargin": true,
            "type": "pie"
           }
          ],
          "scatter": [
           {
            "fillpattern": {
             "fillmode": "overlay",
             "size": 10,
             "solidity": 0.2
            },
            "type": "scatter"
           }
          ],
          "scatter3d": [
           {
            "line": {
             "colorbar": {
              "outlinewidth": 0,
              "ticks": ""
             }
            },
            "marker": {
             "colorbar": {
              "outlinewidth": 0,
              "ticks": ""
             }
            },
            "type": "scatter3d"
           }
          ],
          "scattercarpet": [
           {
            "marker": {
             "colorbar": {
              "outlinewidth": 0,
              "ticks": ""
             }
            },
            "type": "scattercarpet"
           }
          ],
          "scattergeo": [
           {
            "marker": {
             "colorbar": {
              "outlinewidth": 0,
              "ticks": ""
             }
            },
            "type": "scattergeo"
           }
          ],
          "scattergl": [
           {
            "marker": {
             "colorbar": {
              "outlinewidth": 0,
              "ticks": ""
             }
            },
            "type": "scattergl"
           }
          ],
          "scattermap": [
           {
            "marker": {
             "colorbar": {
              "outlinewidth": 0,
              "ticks": ""
             }
            },
            "type": "scattermap"
           }
          ],
          "scattermapbox": [
           {
            "marker": {
             "colorbar": {
              "outlinewidth": 0,
              "ticks": ""
             }
            },
            "type": "scattermapbox"
           }
          ],
          "scatterpolar": [
           {
            "marker": {
             "colorbar": {
              "outlinewidth": 0,
              "ticks": ""
             }
            },
            "type": "scatterpolar"
           }
          ],
          "scatterpolargl": [
           {
            "marker": {
             "colorbar": {
              "outlinewidth": 0,
              "ticks": ""
             }
            },
            "type": "scatterpolargl"
           }
          ],
          "scatterternary": [
           {
            "marker": {
             "colorbar": {
              "outlinewidth": 0,
              "ticks": ""
             }
            },
            "type": "scatterternary"
           }
          ],
          "surface": [
           {
            "colorbar": {
             "outlinewidth": 0,
             "ticks": ""
            },
            "colorscale": [
             [
              0,
              "#0d0887"
             ],
             [
              0.1111111111111111,
              "#46039f"
             ],
             [
              0.2222222222222222,
              "#7201a8"
             ],
             [
              0.3333333333333333,
              "#9c179e"
             ],
             [
              0.4444444444444444,
              "#bd3786"
             ],
             [
              0.5555555555555556,
              "#d8576b"
             ],
             [
              0.6666666666666666,
              "#ed7953"
             ],
             [
              0.7777777777777778,
              "#fb9f3a"
             ],
             [
              0.8888888888888888,
              "#fdca26"
             ],
             [
              1,
              "#f0f921"
             ]
            ],
            "type": "surface"
           }
          ],
          "table": [
           {
            "cells": {
             "fill": {
              "color": "#EBF0F8"
             },
             "line": {
              "color": "white"
             }
            },
            "header": {
             "fill": {
              "color": "#C8D4E3"
             },
             "line": {
              "color": "white"
             }
            },
            "type": "table"
           }
          ]
         },
         "layout": {
          "annotationdefaults": {
           "arrowcolor": "#2a3f5f",
           "arrowhead": 0,
           "arrowwidth": 1
          },
          "autotypenumbers": "strict",
          "coloraxis": {
           "colorbar": {
            "outlinewidth": 0,
            "ticks": ""
           }
          },
          "colorscale": {
           "diverging": [
            [
             0,
             "#8e0152"
            ],
            [
             0.1,
             "#c51b7d"
            ],
            [
             0.2,
             "#de77ae"
            ],
            [
             0.3,
             "#f1b6da"
            ],
            [
             0.4,
             "#fde0ef"
            ],
            [
             0.5,
             "#f7f7f7"
            ],
            [
             0.6,
             "#e6f5d0"
            ],
            [
             0.7,
             "#b8e186"
            ],
            [
             0.8,
             "#7fbc41"
            ],
            [
             0.9,
             "#4d9221"
            ],
            [
             1,
             "#276419"
            ]
           ],
           "sequential": [
            [
             0,
             "#0d0887"
            ],
            [
             0.1111111111111111,
             "#46039f"
            ],
            [
             0.2222222222222222,
             "#7201a8"
            ],
            [
             0.3333333333333333,
             "#9c179e"
            ],
            [
             0.4444444444444444,
             "#bd3786"
            ],
            [
             0.5555555555555556,
             "#d8576b"
            ],
            [
             0.6666666666666666,
             "#ed7953"
            ],
            [
             0.7777777777777778,
             "#fb9f3a"
            ],
            [
             0.8888888888888888,
             "#fdca26"
            ],
            [
             1,
             "#f0f921"
            ]
           ],
           "sequentialminus": [
            [
             0,
             "#0d0887"
            ],
            [
             0.1111111111111111,
             "#46039f"
            ],
            [
             0.2222222222222222,
             "#7201a8"
            ],
            [
             0.3333333333333333,
             "#9c179e"
            ],
            [
             0.4444444444444444,
             "#bd3786"
            ],
            [
             0.5555555555555556,
             "#d8576b"
            ],
            [
             0.6666666666666666,
             "#ed7953"
            ],
            [
             0.7777777777777778,
             "#fb9f3a"
            ],
            [
             0.8888888888888888,
             "#fdca26"
            ],
            [
             1,
             "#f0f921"
            ]
           ]
          },
          "colorway": [
           "#636efa",
           "#EF553B",
           "#00cc96",
           "#ab63fa",
           "#FFA15A",
           "#19d3f3",
           "#FF6692",
           "#B6E880",
           "#FF97FF",
           "#FECB52"
          ],
          "font": {
           "color": "#2a3f5f"
          },
          "geo": {
           "bgcolor": "white",
           "lakecolor": "white",
           "landcolor": "#E5ECF6",
           "showlakes": true,
           "showland": true,
           "subunitcolor": "white"
          },
          "hoverlabel": {
           "align": "left"
          },
          "hovermode": "closest",
          "mapbox": {
           "style": "light"
          },
          "paper_bgcolor": "white",
          "plot_bgcolor": "#E5ECF6",
          "polar": {
           "angularaxis": {
            "gridcolor": "white",
            "linecolor": "white",
            "ticks": ""
           },
           "bgcolor": "#E5ECF6",
           "radialaxis": {
            "gridcolor": "white",
            "linecolor": "white",
            "ticks": ""
           }
          },
          "scene": {
           "xaxis": {
            "backgroundcolor": "#E5ECF6",
            "gridcolor": "white",
            "gridwidth": 2,
            "linecolor": "white",
            "showbackground": true,
            "ticks": "",
            "zerolinecolor": "white"
           },
           "yaxis": {
            "backgroundcolor": "#E5ECF6",
            "gridcolor": "white",
            "gridwidth": 2,
            "linecolor": "white",
            "showbackground": true,
            "ticks": "",
            "zerolinecolor": "white"
           },
           "zaxis": {
            "backgroundcolor": "#E5ECF6",
            "gridcolor": "white",
            "gridwidth": 2,
            "linecolor": "white",
            "showbackground": true,
            "ticks": "",
            "zerolinecolor": "white"
           }
          },
          "shapedefaults": {
           "line": {
            "color": "#2a3f5f"
           }
          },
          "ternary": {
           "aaxis": {
            "gridcolor": "white",
            "linecolor": "white",
            "ticks": ""
           },
           "baxis": {
            "gridcolor": "white",
            "linecolor": "white",
            "ticks": ""
           },
           "bgcolor": "#E5ECF6",
           "caxis": {
            "gridcolor": "white",
            "linecolor": "white",
            "ticks": ""
           }
          },
          "title": {
           "x": 0.05
          },
          "xaxis": {
           "automargin": true,
           "gridcolor": "white",
           "linecolor": "white",
           "ticks": "",
           "title": {
            "standoff": 15
           },
           "zerolinecolor": "white",
           "zerolinewidth": 2
          },
          "yaxis": {
           "automargin": true,
           "gridcolor": "white",
           "linecolor": "white",
           "ticks": "",
           "title": {
            "standoff": 15
           },
           "zerolinecolor": "white",
           "zerolinewidth": 2
          }
         }
        },
        "title": {
         "text": "Bitcoin Analysis <br><span style=\"font-size:14px\">Price Change: <b>-12.17%</b><br>High-Low Spread: <b>$17,736.00</b> (22.47%)<br>Highest: <b>$96,676.44</b> | Lowest: <b>$78,940.44</b></span>",
         "x": 0.05,
         "xanchor": "left",
         "y": 0.95
        },
        "xaxis": {
         "title": {
          "text": "Date"
         }
        },
        "yaxis": {
         "title": {
          "text": "Price (USD)"
         }
        }
       }
      }
     },
     "metadata": {},
     "output_type": "display_data"
    }
   ],
   "source": [
    "def create_price_chart(df, price_stats):\n",
    "    \"\"\"Create an interactive price chart with statistics.\"\"\"\n",
    "    fig = go.Figure()\n",
    "# Main Price Line\n",
    "    fig.add_trace(go.Scatter\n",
    "    (x=df['Date'], \n",
    "     y=df['Price'], \n",
    "     mode='lines', \n",
    "     name='Bitcoin Price'))\n",
    "# Add holizontal lines for highest and lowest price\n",
    "    fig.add_hline(y=highest_price, line_dash=\"dash\", line_color=\"green\", \n",
    "              annotation_text=f\"Highest Price: ${highest_price:,.2f}\")\n",
    "    fig.add_hline(y=lowest_price, line_dash=\"dash\", line_color=\"red\",\n",
    "                annotation_text=f\"Lowest Price: ${lowest_price:,.2f}\")\n",
    "\n",
    "    return fig\n",
    "\n",
    "# Title formatting\n",
    "title_text = (f'Bitcoin Analysis <br>' \n",
    "f'<span style=\"font-size:14px\">'\n",
    "f'Price Change: <b>{price_change:.2f}%</b><br>'\n",
    "f'High-Low Spread: <b>${price_difference:,.2f}</b> ({price_difference_percent:.2f}%)<br>'\n",
    "f'Highest: <b>${highest_price:,.2f}</b> | Lowest: <b>${lowest_price:,.2f}</b>'\n",
    "f'</span>')\n",
    "\n",
    "fig.update_layout(\n",
    "    title= dict(text=title_text, \n",
    "                x=0.05,y = 0.95,\n",
    "                xanchor='left'),\n",
    "    xaxis_title='Date',\n",
    "    yaxis_title='Price (USD)',\n",
    "    hovermode='x unified')\n",
    "\n",
    "fig.show()"
   ]
  },
  {
   "cell_type": "code",
   "execution_count": null,
   "metadata": {},
   "outputs": [],
   "source": []
  }
 ],
 "metadata": {
  "kernelspec": {
   "display_name": ".venv",
   "language": "python",
   "name": "python3"
  },
  "language_info": {
   "codemirror_mode": {
    "name": "ipython",
    "version": 3
   },
   "file_extension": ".py",
   "mimetype": "text/x-python",
   "name": "python",
   "nbconvert_exporter": "python",
   "pygments_lexer": "ipython3",
   "version": "3.9.6"
  }
 },
 "nbformat": 4,
 "nbformat_minor": 2
}
